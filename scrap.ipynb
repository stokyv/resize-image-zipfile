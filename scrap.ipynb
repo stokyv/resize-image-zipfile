{
 "cells": [
  {
   "cell_type": "code",
   "execution_count": null,
   "metadata": {},
   "outputs": [],
   "source": [
    "import os\n",
    "from PIL import Image\n",
    "\n",
    "def resize_images(directory, target_width=1280, convert_to_jpg=False):\n",
    "    \"\"\"\n",
    "    Resizes all images in the specified directory that have a width greater than the target width.\n",
    "    The images are resized to the target width while maintaining the original aspect ratio.\n",
    "    If convert_to_jpg is True, converts .png and .jpeg files to .jpg format before resizing.\n",
    "    \"\"\"\n",
    "    for filename in os.listdir(directory):\n",
    "        if filename.lower().endswith(\".jpg\") or filename.lower().endswith(\".png\") or filename.lower().endswith('.jpeg'):\n",
    "            file_path = os.path.join(directory, filename)\n",
    "            image = Image.open(file_path)\n",
    "            width, height = image.size\n",
    "            \n",
    "            if convert_to_jpg and not filename.lower().endswith(\".jpg\"):\n",
    "                # Convert to JPEG format if not already in JPEG\n",
    "                jpg_file_path = os.path.splitext(file_path)[0] + \".jpg\"\n",
    "                image.convert(\"RGB\").save(jpg_file_path)\n",
    "                image = Image.open(jpg_file_path)\n",
    "                os.remove(file_path)  # Remove the original non-JPEG file\n",
    "                file_path = jpg_file_path  # Update file_path to point to the new JPEG file\n",
    "\n",
    "            if width > target_width:\n",
    "                new_width = target_width\n",
    "                new_height = int(height * (new_width / width))\n",
    "                resized_image = image.resize((new_width, new_height), resample=Image.LANCZOS)\n",
    "                resized_image.save(file_path)\n",
    "                print(f\"Resized {filename} to {target_width} pixels wide.\")\n",
    "            else:\n",
    "                print(f\"Skipped {filename}\")\n",
    "\n",
    "# Example usage:\n",
    "# Resize images in 'input_images' directory to a target width of 1280 pixels,\n",
    "# converting non-JPEG files to JPEG format before resizing.\n",
    "resize_images('input_images', target_width=1280, convert_to_jpg=True)"
   ]
  }
 ],
 "metadata": {
  "language_info": {
   "name": "python"
  }
 },
 "nbformat": 4,
 "nbformat_minor": 2
}

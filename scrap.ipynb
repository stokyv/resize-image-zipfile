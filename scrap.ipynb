{
 "cells": [
  {
   "cell_type": "code",
   "execution_count": 13,
   "metadata": {},
   "outputs": [
    {
     "data": {
      "text/plain": [
       "False"
      ]
     },
     "execution_count": 13,
     "metadata": {},
     "output_type": "execute_result"
    }
   ],
   "source": [
    "s = '001.jpg'\n",
    "s[0]\n",
    "is_png(s)"
   ]
  },
  {
   "cell_type": "code",
   "execution_count": 15,
   "metadata": {},
   "outputs": [],
   "source": [
    "import os\n",
    "from PIL import Image\n",
    "\n",
    "def is_extension(filename, extension):\n",
    "    assert extension[0] != '.'\n",
    "    return filename.lower().endswith(f\".{extension}\")\n",
    "\n",
    "def is_jpg(filename):\n",
    "    return is_extension(filename, 'jpg')\n",
    "\n",
    "def is_png(filename):\n",
    "    return is_extension(filename, 'png')\n",
    "\n",
    "def is_jpeg(filename):\n",
    "    return is_extension(filename, 'jpeg') \n",
    "\n",
    "\n",
    "\n",
    "def resize_images(directory, target_width=1280, convert_to_jpg=False):\n",
    "    \"\"\"\n",
    "    Resizes all images in the specified directory that have a width greater than the target width.\n",
    "    The images are resized to the target width while maintaining the original aspect ratio.\n",
    "    If convert_to_jpg is True, converts .png and .jpeg files to .jpg format before resizing.\n",
    "    \"\"\"\n",
    "    for filename in os.listdir(directory):\n",
    "        if is_jpg(filename) or is_jpeg(filename) or is_png(filename):\n",
    "            file_path = os.path.join(directory, filename)\n",
    "            image = Image.open(file_path)\n",
    "            width, height = image.size\n",
    "            \n",
    "            if convert_to_jpg and not is_jpg(filename):\n",
    "                # Convert to JPEG format if not already in JPEG\n",
    "                jpg_file_path = os.path.splitext(file_path)[0] + \".jpg\"\n",
    "                image.convert(\"RGB\").save(jpg_file_path)\n",
    "                image = Image.open(jpg_file_path)\n",
    "                os.remove(file_path)  # Remove the original non-JPEG file\n",
    "                file_path = jpg_file_path  # Update file_path to point to the new JPEG file\n",
    "\n",
    "            if width > target_width:\n",
    "                new_width = target_width\n",
    "                new_height = int(height * (new_width / width))\n",
    "                resized_image = image.resize((new_width, new_height), resample=Image.LANCZOS)\n",
    "                resized_image.save(file_path)\n",
    "                print(f\"Resized {filename} to {target_width} pixels wide.\")\n",
    "            else:\n",
    "                print(f\"Skipped {filename}\")\n",
    "\n",
    "# Example usage:\n",
    "# Resize images in 'input_images' directory to a target width of 1280 pixels,\n",
    "# converting non-JPEG files to JPEG format before resizing.\n",
    "# resize_images('input_images', target_width=1280, convert_to_jpg=True)"
   ]
  }
 ],
 "metadata": {
  "kernelspec": {
   "display_name": "env1",
   "language": "python",
   "name": "python3"
  },
  "language_info": {
   "codemirror_mode": {
    "name": "ipython",
    "version": 3
   },
   "file_extension": ".py",
   "mimetype": "text/x-python",
   "name": "python",
   "nbconvert_exporter": "python",
   "pygments_lexer": "ipython3",
   "version": "3.11.5"
  }
 },
 "nbformat": 4,
 "nbformat_minor": 2
}
